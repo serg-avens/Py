{
  "nbformat": 4,
  "nbformat_minor": 0,
  "metadata": {
    "colab": {
      "provenance": [],
      "authorship_tag": "ABX9TyPEPPxGsAFgoMmO9k8YcNMt",
      "include_colab_link": true
    },
    "kernelspec": {
      "name": "python3",
      "display_name": "Python 3"
    },
    "language_info": {
      "name": "python"
    }
  },
  "cells": [
    {
      "cell_type": "markdown",
      "metadata": {
        "id": "view-in-github",
        "colab_type": "text"
      },
      "source": [
        "<a href=\"https://colab.research.google.com/github/serg-avens/Py/blob/main/numpy_Pandas.ipynb\" target=\"_parent\"><img src=\"https://colab.research.google.com/assets/colab-badge.svg\" alt=\"Open In Colab\"/></a>"
      ]
    },
    {
      "cell_type": "code",
      "execution_count": 18,
      "metadata": {
        "colab": {
          "base_uri": "https://localhost:8080/"
        },
        "id": "FvGDFOztu9K8",
        "outputId": "80a28022-8aea-435c-a6fd-f67e35c7d062"
      },
      "outputs": [
        {
          "output_type": "stream",
          "name": "stdout",
          "text": [
            "3\n"
          ]
        }
      ],
      "source": [
        "import numpy as np\n",
        "from scipy.sparse import csr_matrix\n",
        "\n",
        "#A = np.random.rand(4,3)\n",
        "#B = np.random.randint(-3,3, size =(2,3,2))\n",
        "C = np.array([[2,0,0,1,0,0,0], [0,0,3,0,0,2,0], [0,0,0,1,0,0,0]])\n",
        "#print(C)\n",
        "#print(1.0 - np.count_nonzero(C)/ C.size) #Доля нулевых значений\n",
        "B = csr_matrix(C)\n",
        "#print(B)\n",
        "A = np.array([[1,2,3],[4,5,6]])\n",
        "#print(A.shape)\n",
        "print(A[0,2])"
      ]
    }
  ]
}